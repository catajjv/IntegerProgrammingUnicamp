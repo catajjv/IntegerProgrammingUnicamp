{
 "cells": [
  {
   "cell_type": "markdown",
   "metadata": {},
   "source": [
    "# Projeto final Programação inteira\n",
    "\n",
    "#### Camila\n",
    "#### Catalina\n",
    "#### Sergio"
   ]
  },
  {
   "cell_type": "code",
   "execution_count": 1,
   "metadata": {},
   "outputs": [],
   "source": [
    "import gurobipy as gp\n",
    "from gurobipy import GRB"
   ]
  },
  {
   "cell_type": "code",
   "execution_count": 2,
   "metadata": {},
   "outputs": [],
   "source": [
    "# Parameters \n",
    "\n",
    "# Transportation cost to Sao Paulo (SJ), Laranjeiras (LJ), Sao Bernardo (SB), Santo Andre (SA) e Sao Jose dos Campos (SJ)\n",
    "\n",
    "cost = {'SP':{'A': 49,'B':48.9,'C1':49.92,'C2':117.83,'D':35}, \n",
    "        'LJ':{'A':56,'B':55.72,'C1':49.92,'C2':132.97},\n",
    "        'SB':{'A':50,'B':49.31,'C1':49.92,'C2':117.83,'D':35},\n",
    "        'SA':{'A':52,'B':55.08,'C1':49.92,'C2':117.83,'D':35},\n",
    "        'SJ': {'A':46,'B':44,'C1':49.92,'C2':117.83}\n",
    "        }\n",
    "\n",
    "# Demanda de cada cidade\n",
    "\n",
    "demand_SP = [4,5,4,3,4,5]\n",
    "demand_LJ = [8,10,6,6,7,10]\n",
    "demand_SB = [2,3,3,2,4,4]\n",
    "demand_SA = [6,8,4,4,5,8]\n",
    "demand_SJ = [2,1,2,1,3,3]\n",
    "\n",
    "cities = list(cost.keys())"
   ]
  },
  {
   "cell_type": "code",
   "execution_count": 3,
   "metadata": {},
   "outputs": [
    {
     "name": "stdout",
     "output_type": "stream",
     "text": [
      "Restricted license - for non-production use only - expires 2022-01-13\n"
     ]
    }
   ],
   "source": [
    "# Model for month 1\n",
    "\n",
    "month = 1\n",
    "\n",
    "model = gp.Model('Transportation cost')\n",
    "\n",
    "x_SP = model.addVars(range(1,len(cost['SP'])+1),vtype=gp.GRB.INTEGER, name=\"x_SP\")\n",
    "x_LJ = model.addVars(range(1,len(cost['LJ'])+1),vtype=gp.GRB.INTEGER, name=\"x_LJ\")\n",
    "x_SB = model.addVars(range(1,len(cost['SB'])+1),vtype=gp.GRB.INTEGER, name=\"x_SB\")\n",
    "x_SA = model.addVars(range(1,len(cost['SA'])+1),vtype=gp.GRB.INTEGER, name=\"x_SA\")\n",
    "x_SJ = model.addVars(range(1,len(cost['SJ'])+1),vtype=gp.GRB.INTEGER, name=\"x_SJ\")\n",
    "\n"
   ]
  },
  {
   "cell_type": "code",
   "execution_count": 4,
   "metadata": {},
   "outputs": [],
   "source": [
    "# Each company can ship cap[j] boxes to city j.\n",
    "\n",
    "cap = [10,10,10,10,10]\n",
    "\n",
    "capacity_SP = model.addConstrs((x_SP[j] <= cap[0] for j in range(1,len(cost['SP'])+1)), name='capacity to SP')\n",
    "capacity_LJ = model.addConstrs((x_LJ[j] <= cap[1] for j in range(1,len(cost['LJ'])+1)), name='capacity to LJ')\n",
    "capacity_SB = model.addConstrs((x_SB[j] <= cap[2] for j in range(1,len(cost['SB'])+1)), name='capacity to SB')\n",
    "capacity_SA = model.addConstrs((x_SA[j] <= cap[3] for j in range(1,len(cost['SA'])+1)), name='capacity to SA')\n",
    "capacity_SJ = model.addConstrs((x_SJ[j] <= cap[4] for j in range(1,len(cost['SJ'])+1)), name='capacity to SJ')"
   ]
  },
  {
   "cell_type": "code",
   "execution_count": 5,
   "metadata": {},
   "outputs": [],
   "source": [
    "# Satisfy demand\n",
    "\n",
    "c_demand_SP = model.addConstr(x_SP.sum() == demand_SP[month-1])\n",
    "c_demand_LJ = model.addConstr(x_LJ.sum() == demand_LJ[month-1])\n",
    "c_demand_SB = model.addConstr(x_SB.sum() == demand_SB[month-1])\n",
    "c_demand_SA = model.addConstr(x_SA.sum() == demand_SA[month-1])\n",
    "c_demand_SJ = model.addConstr(x_SJ.sum() == demand_SJ[month-1])"
   ]
  },
  {
   "cell_type": "code",
   "execution_count": 6,
   "metadata": {},
   "outputs": [],
   "source": [
    "# Minimize cost\n",
    "\n",
    "model.setObjective(gp.quicksum(list(cost['SP'].values())[j-1]*x_SP[j] for j in range(1,len(cost['SP'])+1))\n",
    "                   + gp.quicksum(list(cost['LJ'].values())[j-1]*x_LJ[j] for j in range(1,len(cost['LJ'])+1))\n",
    "                   +gp.quicksum(list(cost['SB'].values())[j-1]*x_SB[j] for j in range(1,len(cost['SB'])+1))\n",
    "                   + gp.quicksum(list(cost['SA'].values())[j-1]*x_SA[j] for j in range(1,len(cost['SA'])+1))\n",
    "                   + gp.quicksum(list(cost['SJ'].values())[j-1]*x_SJ[j] for j in range(1,len(cost['SJ'])+1)), GRB.MINIMIZE)"
   ]
  },
  {
   "cell_type": "code",
   "execution_count": 7,
   "metadata": {},
   "outputs": [
    {
     "name": "stdout",
     "output_type": "stream",
     "text": [
      "Gurobi Optimizer version 9.1.2 build v9.1.2rc0 (win64)\n",
      "Thread count: 4 physical cores, 8 logical processors, using up to 8 threads\n",
      "Optimize a model with 28 rows, 23 columns and 46 nonzeros\n",
      "Model fingerprint: 0x0de74398\n",
      "Variable types: 0 continuous, 23 integer (0 binary)\n",
      "Coefficient statistics:\n",
      "  Matrix range     [1e+00, 1e+00]\n",
      "  Objective range  [4e+01, 1e+02]\n",
      "  Bounds range     [0e+00, 0e+00]\n",
      "  RHS range        [2e+00, 1e+01]\n",
      "Found heuristic solution: objective 1095.2000000\n",
      "Presolve removed 28 rows and 23 columns\n",
      "Presolve time: 0.00s\n",
      "Presolve: All rows and columns removed\n",
      "\n",
      "Explored 0 nodes (0 simplex iterations) in 0.04 seconds\n",
      "Thread count was 1 (of 8 available processors)\n",
      "\n",
      "Solution count 2: 907.36 1095.2 \n",
      "\n",
      "Optimal solution found (tolerance 1.00e-04)\n",
      "Best objective 9.073600000000e+02, best bound 9.073600000000e+02, gap 0.0000%\n"
     ]
    }
   ],
   "source": [
    "model.optimize()"
   ]
  },
  {
   "cell_type": "code",
   "execution_count": 8,
   "metadata": {},
   "outputs": [
    {
     "name": "stdout",
     "output_type": "stream",
     "text": [
      "x_SP[5] = 4.0 . Enviar a  SP 4.0 caixas pela empresa transportadora D\n",
      "x_LJ[3] = 8.0 . Enviar a  LJ 8.0 caixas pela empresa transportadora C1\n",
      "x_SB[5] = 2.0 . Enviar a  SB 2.0 caixas pela empresa transportadora D\n",
      "x_SA[5] = 6.0 . Enviar a  SA 6.0 caixas pela empresa transportadora D\n",
      "x_SJ[2] = 2.0 . Enviar a  SJ 2.0 caixas pela empresa transportadora B\n",
      "Costo total de transporte no mes  1 : 907.36\n"
     ]
    }
   ],
   "source": [
    "for v in model.getVars():\n",
    "    if v.x > 1e-6:\n",
    "        print(v.varName,'=',v.x,'. Enviar a ', v.varName[2:4], v.x, 'caixas pela empresa transportadora',list(cost[v.varName[2:4]].keys())[int(v.varName[-2])-1])\n",
    "\n",
    "# Display optimal total matching score\n",
    "print('Costo total de transporte no mes ',month, ':', model.objVal)"
   ]
  },
  {
   "cell_type": "code",
   "execution_count": null,
   "metadata": {},
   "outputs": [],
   "source": []
  }
 ],
 "metadata": {
  "kernelspec": {
   "display_name": "Python 3 (ipykernel)",
   "language": "python",
   "name": "python3"
  },
  "language_info": {
   "codemirror_mode": {
    "name": "ipython",
    "version": 3
   },
   "file_extension": ".py",
   "mimetype": "text/x-python",
   "name": "python",
   "nbconvert_exporter": "python",
   "pygments_lexer": "ipython3",
   "version": "3.11.5"
  }
 },
 "nbformat": 4,
 "nbformat_minor": 2
}
